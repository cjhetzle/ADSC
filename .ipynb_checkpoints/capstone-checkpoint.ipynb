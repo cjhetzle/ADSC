{
 "cells": [
  {
   "cell_type": "markdown",
   "metadata": {},
   "source": [
    "# Welcome to my Capstone Project :)"
   ]
  },
  {
   "cell_type": "code",
   "execution_count": 11,
   "metadata": {},
   "outputs": [],
   "source": [
    "import pandas as pd\n",
    "import numpy as np\n",
    "import folium\n",
    "import json\n"
   ]
  },
  {
   "cell_type": "code",
   "execution_count": 12,
   "metadata": {},
   "outputs": [
    {
     "name": "stdout",
     "output_type": "stream",
     "text": [
      "Hello Capstone Project Course!\n"
     ]
    }
   ],
   "source": [
    "print('Hello Capstone Project Course!')"
   ]
  },
  {
   "cell_type": "code",
   "execution_count": 13,
   "metadata": {},
   "outputs": [
    {
     "name": "stdout",
     "output_type": "stream",
     "text": [
      "Data downloaded!\n"
     ]
    }
   ],
   "source": [
    "!wget -q -O daily_incidents.json https://opendata.arcgis.com/datasets/693811eb361f4da286891eca1fae5943_0.geojson\n",
    "print('Data downloaded!')"
   ]
  },
  {
   "cell_type": "code",
   "execution_count": 16,
   "metadata": {},
   "outputs": [],
   "source": [
    "with open('daily_incidents.json') as json_data:\n",
    "    network_data = json.load(json_data)"
   ]
  },
  {
   "cell_type": "code",
   "execution_count": 18,
   "metadata": {},
   "outputs": [],
   "source": [
    "crime_data = network_data['features']"
   ]
  },
  {
   "cell_type": "code",
   "execution_count": 34,
   "metadata": {},
   "outputs": [
    {
     "data": {
      "text/plain": [
       "{'type': 'Feature',\n",
       " 'properties': {'OBJECTID': 471156,\n",
       "  'GlobalID': 'c073835e-4cc7-4eb1-9506-2fbb8eb0f80d',\n",
       "  'CreationDate': '2019-04-02T08:01:16.723Z',\n",
       "  'Creator': 'OpenData_ral',\n",
       "  'EditDate': '2019-04-03T20:01:25.357Z',\n",
       "  'Editor': 'OpenData_ral',\n",
       "  'case_number': 'P19017793',\n",
       "  'crime_category': 'DRUGS',\n",
       "  'crime_code': '54D',\n",
       "  'crime_description': 'Drug Violation/Misdemeanor',\n",
       "  'crime_type': 'CRIMES AGAINST SOCIETY',\n",
       "  'reported_block_address': '500 BLOCK  LIPSCOMB CT',\n",
       "  'city_of_incident': 'RALEIGH',\n",
       "  'city': 'RALEIGH',\n",
       "  'district': 'North',\n",
       "  'reported_date': '2019-04-02T04:58:00.000Z',\n",
       "  'reported_year': 2019,\n",
       "  'reported_month': 4,\n",
       "  'reported_day': 2,\n",
       "  'reported_hour': 0,\n",
       "  'reported_dayofwk': 'Tuesday',\n",
       "  'latitude': 35.8582859777782,\n",
       "  'longitude': -78.6474813641172,\n",
       "  'agency': 'RPD',\n",
       "  'updated_date': '2019-04-02T08:53:12.000Z'},\n",
       " 'geometry': {'type': 'Point',\n",
       "  'coordinates': [-78.64748136387466, 35.85828597793106]}}"
      ]
     },
     "execution_count": 34,
     "metadata": {},
     "output_type": "execute_result"
    }
   ],
   "source": [
    "column_names = ['category','code','district','latitude','longitude']\n",
    "\n",
    "crime_df = pd.DataFrame(columns=column_names)\n",
    "crime_data[1]"
   ]
  },
  {
   "cell_type": "code",
   "execution_count": 35,
   "metadata": {},
   "outputs": [],
   "source": [
    "for data in crime_data:\n",
    "    category = data['properties']['crime_category']\n",
    "    code = data['properties']['crime_code']\n",
    "    district = data['properties']['district']\n",
    "    latlon = data['geometry']\n",
    "    latitude = None\n",
    "    longitude = None\n",
    "    if latlon is not None:\n",
    "        latitude = latlon['coordinates'][0]\n",
    "        longitude = latlon['coordinates'][1]\n",
    "    \n",
    "    crime_df = crime_df.append({column_names[0]: category,\n",
    "                                 column_names[1]: code,\n",
    "                                 column_names[2]: district,\n",
    "                                 column_names[3]: latitude,\n",
    "                                 column_names[4]: longitude}, ignore_index=True)"
   ]
  },
  {
   "cell_type": "code",
   "execution_count": 37,
   "metadata": {},
   "outputs": [
    {
     "data": {
      "text/html": [
       "<div>\n",
       "<style scoped>\n",
       "    .dataframe tbody tr th:only-of-type {\n",
       "        vertical-align: middle;\n",
       "    }\n",
       "\n",
       "    .dataframe tbody tr th {\n",
       "        vertical-align: top;\n",
       "    }\n",
       "\n",
       "    .dataframe thead th {\n",
       "        text-align: right;\n",
       "    }\n",
       "</style>\n",
       "<table border=\"1\" class=\"dataframe\">\n",
       "  <thead>\n",
       "    <tr style=\"text-align: right;\">\n",
       "      <th></th>\n",
       "      <th>category</th>\n",
       "      <th>code</th>\n",
       "      <th>district</th>\n",
       "      <th>latitude</th>\n",
       "      <th>longitude</th>\n",
       "    </tr>\n",
       "  </thead>\n",
       "  <tbody>\n",
       "    <tr>\n",
       "      <th>114</th>\n",
       "      <td>LARCENY FROM MV</td>\n",
       "      <td>35F</td>\n",
       "      <td>Downtown</td>\n",
       "      <td>-78.640526</td>\n",
       "      <td>35.772213</td>\n",
       "    </tr>\n",
       "    <tr>\n",
       "      <th>115</th>\n",
       "      <td>FRAUD</td>\n",
       "      <td>56C</td>\n",
       "      <td>North</td>\n",
       "      <td>-78.612795</td>\n",
       "      <td>35.842553</td>\n",
       "    </tr>\n",
       "    <tr>\n",
       "      <th>116</th>\n",
       "      <td>VANDALISM</td>\n",
       "      <td>53A</td>\n",
       "      <td>Downtown</td>\n",
       "      <td>-78.647394</td>\n",
       "      <td>35.803127</td>\n",
       "    </tr>\n",
       "    <tr>\n",
       "      <th>117</th>\n",
       "      <td>DRUGS</td>\n",
       "      <td>54D</td>\n",
       "      <td>Downtown</td>\n",
       "      <td>-78.635345</td>\n",
       "      <td>35.770546</td>\n",
       "    </tr>\n",
       "    <tr>\n",
       "      <th>118</th>\n",
       "      <td>ALL OTHER OFFENSES</td>\n",
       "      <td>80A</td>\n",
       "      <td>Downtown</td>\n",
       "      <td>-78.635345</td>\n",
       "      <td>35.770546</td>\n",
       "    </tr>\n",
       "  </tbody>\n",
       "</table>\n",
       "</div>"
      ],
      "text/plain": [
       "               category code  district   latitude  longitude\n",
       "114     LARCENY FROM MV  35F  Downtown -78.640526  35.772213\n",
       "115               FRAUD  56C     North -78.612795  35.842553\n",
       "116           VANDALISM  53A  Downtown -78.647394  35.803127\n",
       "117               DRUGS  54D  Downtown -78.635345  35.770546\n",
       "118  ALL OTHER OFFENSES  80A  Downtown -78.635345  35.770546"
      ]
     },
     "execution_count": 37,
     "metadata": {},
     "output_type": "execute_result"
    }
   ],
   "source": [
    "crime_df.tail()"
   ]
  },
  {
   "cell_type": "code",
   "execution_count": 38,
   "metadata": {},
   "outputs": [
    {
     "data": {
      "text/html": [
       "<div>\n",
       "<style scoped>\n",
       "    .dataframe tbody tr th:only-of-type {\n",
       "        vertical-align: middle;\n",
       "    }\n",
       "\n",
       "    .dataframe tbody tr th {\n",
       "        vertical-align: top;\n",
       "    }\n",
       "\n",
       "    .dataframe thead th {\n",
       "        text-align: right;\n",
       "    }\n",
       "</style>\n",
       "<table border=\"1\" class=\"dataframe\">\n",
       "  <thead>\n",
       "    <tr style=\"text-align: right;\">\n",
       "      <th></th>\n",
       "      <th>code</th>\n",
       "      <th>district</th>\n",
       "      <th>latitude</th>\n",
       "      <th>longitude</th>\n",
       "    </tr>\n",
       "    <tr>\n",
       "      <th>category</th>\n",
       "      <th></th>\n",
       "      <th></th>\n",
       "      <th></th>\n",
       "      <th></th>\n",
       "    </tr>\n",
       "  </thead>\n",
       "  <tbody>\n",
       "    <tr>\n",
       "      <th>ALL OTHER OFFENSES</th>\n",
       "      <td>5</td>\n",
       "      <td>5</td>\n",
       "      <td>3</td>\n",
       "      <td>3</td>\n",
       "    </tr>\n",
       "    <tr>\n",
       "      <th>ASSAULT</th>\n",
       "      <td>16</td>\n",
       "      <td>16</td>\n",
       "      <td>16</td>\n",
       "      <td>16</td>\n",
       "    </tr>\n",
       "    <tr>\n",
       "      <th>BURGLARY/RESIDENTIAL</th>\n",
       "      <td>1</td>\n",
       "      <td>1</td>\n",
       "      <td>1</td>\n",
       "      <td>1</td>\n",
       "    </tr>\n",
       "    <tr>\n",
       "      <th>DISORDERLY CONDUCT</th>\n",
       "      <td>1</td>\n",
       "      <td>1</td>\n",
       "      <td>1</td>\n",
       "      <td>1</td>\n",
       "    </tr>\n",
       "    <tr>\n",
       "      <th>DRUG VIOLATIONS</th>\n",
       "      <td>2</td>\n",
       "      <td>2</td>\n",
       "      <td>2</td>\n",
       "      <td>2</td>\n",
       "    </tr>\n",
       "    <tr>\n",
       "      <th>DRUGS</th>\n",
       "      <td>12</td>\n",
       "      <td>12</td>\n",
       "      <td>12</td>\n",
       "      <td>12</td>\n",
       "    </tr>\n",
       "    <tr>\n",
       "      <th>EMBEZZLEMENT</th>\n",
       "      <td>1</td>\n",
       "      <td>1</td>\n",
       "      <td>1</td>\n",
       "      <td>1</td>\n",
       "    </tr>\n",
       "    <tr>\n",
       "      <th>FRAUD</th>\n",
       "      <td>6</td>\n",
       "      <td>6</td>\n",
       "      <td>6</td>\n",
       "      <td>6</td>\n",
       "    </tr>\n",
       "    <tr>\n",
       "      <th>HUMANE</th>\n",
       "      <td>2</td>\n",
       "      <td>2</td>\n",
       "      <td>2</td>\n",
       "      <td>2</td>\n",
       "    </tr>\n",
       "    <tr>\n",
       "      <th>LARCENY</th>\n",
       "      <td>17</td>\n",
       "      <td>17</td>\n",
       "      <td>16</td>\n",
       "      <td>16</td>\n",
       "    </tr>\n",
       "    <tr>\n",
       "      <th>LARCENY FROM MV</th>\n",
       "      <td>8</td>\n",
       "      <td>8</td>\n",
       "      <td>8</td>\n",
       "      <td>8</td>\n",
       "    </tr>\n",
       "    <tr>\n",
       "      <th>MISCELLANEOUS</th>\n",
       "      <td>34</td>\n",
       "      <td>34</td>\n",
       "      <td>0</td>\n",
       "      <td>0</td>\n",
       "    </tr>\n",
       "    <tr>\n",
       "      <th>MV THEFT</th>\n",
       "      <td>2</td>\n",
       "      <td>2</td>\n",
       "      <td>2</td>\n",
       "      <td>2</td>\n",
       "    </tr>\n",
       "    <tr>\n",
       "      <th>SEX OFFENSES</th>\n",
       "      <td>4</td>\n",
       "      <td>4</td>\n",
       "      <td>2</td>\n",
       "      <td>2</td>\n",
       "    </tr>\n",
       "    <tr>\n",
       "      <th>TRAFFIC</th>\n",
       "      <td>1</td>\n",
       "      <td>1</td>\n",
       "      <td>0</td>\n",
       "      <td>0</td>\n",
       "    </tr>\n",
       "    <tr>\n",
       "      <th>UNAUTHORIZED MOTOR VEHICLE USE</th>\n",
       "      <td>1</td>\n",
       "      <td>1</td>\n",
       "      <td>1</td>\n",
       "      <td>1</td>\n",
       "    </tr>\n",
       "    <tr>\n",
       "      <th>VANDALISM</th>\n",
       "      <td>3</td>\n",
       "      <td>3</td>\n",
       "      <td>3</td>\n",
       "      <td>3</td>\n",
       "    </tr>\n",
       "    <tr>\n",
       "      <th>WEAPONS VIOLATION</th>\n",
       "      <td>3</td>\n",
       "      <td>3</td>\n",
       "      <td>3</td>\n",
       "      <td>3</td>\n",
       "    </tr>\n",
       "  </tbody>\n",
       "</table>\n",
       "</div>"
      ],
      "text/plain": [
       "                                code  district  latitude  longitude\n",
       "category                                                           \n",
       "ALL OTHER OFFENSES                 5         5         3          3\n",
       "ASSAULT                           16        16        16         16\n",
       "BURGLARY/RESIDENTIAL               1         1         1          1\n",
       "DISORDERLY CONDUCT                 1         1         1          1\n",
       "DRUG VIOLATIONS                    2         2         2          2\n",
       "DRUGS                             12        12        12         12\n",
       "EMBEZZLEMENT                       1         1         1          1\n",
       "FRAUD                              6         6         6          6\n",
       "HUMANE                             2         2         2          2\n",
       "LARCENY                           17        17        16         16\n",
       "LARCENY FROM MV                    8         8         8          8\n",
       "MISCELLANEOUS                     34        34         0          0\n",
       "MV THEFT                           2         2         2          2\n",
       "SEX OFFENSES                       4         4         2          2\n",
       "TRAFFIC                            1         1         0          0\n",
       "UNAUTHORIZED MOTOR VEHICLE USE     1         1         1          1\n",
       "VANDALISM                          3         3         3          3\n",
       "WEAPONS VIOLATION                  3         3         3          3"
      ]
     },
     "execution_count": 38,
     "metadata": {},
     "output_type": "execute_result"
    }
   ],
   "source": [
    "crime_df.groupby(by='category').count()"
   ]
  },
  {
   "cell_type": "code",
   "execution_count": null,
   "metadata": {},
   "outputs": [],
   "source": []
  }
 ],
 "metadata": {
  "kernelspec": {
   "display_name": "Python 3",
   "language": "python",
   "name": "python3"
  },
  "language_info": {
   "codemirror_mode": {
    "name": "ipython",
    "version": 3
   },
   "file_extension": ".py",
   "mimetype": "text/x-python",
   "name": "python",
   "nbconvert_exporter": "python",
   "pygments_lexer": "ipython3",
   "version": "3.7.2"
  }
 },
 "nbformat": 4,
 "nbformat_minor": 2
}
